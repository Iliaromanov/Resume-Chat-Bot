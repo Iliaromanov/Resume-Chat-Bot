{
 "cells": [
  {
   "cell_type": "code",
   "execution_count": 1,
   "source": [
    "import tensorflow as tf\r\n",
    "from tensorflow.keras import layers\r\n",
    "import pandas as pd\r\n",
    "import numpy as np\r\n",
    "import json\r\n",
    "import random\r\n",
    "import pickle\r\n",
    "\r\n",
    "# Import created data pipelines\r\n",
    "from nlp_pipelines import *\r\n",
    "pipelines = [\r\n",
    "    nltk_stemmer, nltk_no_POS_lemmatizer, nltk_POS_lemmatizer\r\n",
    "]\r\n",
    "pipeline_names = [\r\n",
    "    \"nltk_stemmer\", \"nltk_no_POS_lemmatizer\", \"nltk_POS_lemmatizer\"\r\n",
    "]\r\n",
    "\r\n",
    "import matplotlib.pyplot as plt\r\n",
    "%matplotlib inline"
   ],
   "outputs": [],
   "metadata": {}
  },
  {
   "cell_type": "code",
   "execution_count": 2,
   "source": [
    "# Necessary downloads\r\n",
    "nltk.download('punkt', quiet=True)\r\n",
    "nltk.download('wordnet', quiet=True)"
   ],
   "outputs": [
    {
     "output_type": "execute_result",
     "data": {
      "text/plain": [
       "True"
      ]
     },
     "metadata": {},
     "execution_count": 2
    }
   ],
   "metadata": {}
  },
  {
   "cell_type": "markdown",
   "source": [
    "## Data Preprocessing"
   ],
   "metadata": {}
  },
  {
   "cell_type": "code",
   "execution_count": 3,
   "source": [
    "# Preprocessing intents data\r\n",
    "intents = json.loads(open('intents.json').read())\r\n",
    "\r\n",
    "results = [[] for _ in range(len(pipelines))] # list of pipeline results for comparing pipelines\r\n",
    "words = []  # all possible words in intents vocabulary\r\n",
    "classes = []  # tags\r\n",
    "docs = []  # pairs of tokenized word patterns and corresponding classes\r\n",
    "\r\n",
    "for intent in intents['intents']:\r\n",
    "    for pattern in intent['patterns']:\r\n",
    "        # Remove punctuation\r\n",
    "        pattern = pattern.replace('?', '').replace('!', '').replace(',', '').replace('.', '')\r\n",
    "        tokens = nltk.word_tokenize(pattern)\r\n",
    "        words.extend([token for token in tokens if token not in \"?!,.\"])\r\n",
    "        docs.append((tokens, intent['tag']))\r\n",
    "\r\n",
    "        # Apply pipelines to pattern and save results for comparison\r\n",
    "        for i in range(len(pipelines)):\r\n",
    "            results[i].extend(pipelines[i](pattern))\r\n",
    "        \r\n",
    "        if intent['tag'] not in classes:\r\n",
    "            classes.append(intent['tag'])\r\n",
    "\r\n",
    "# Sort tag names list\r\n",
    "classes = sorted(classes)"
   ],
   "outputs": [],
   "metadata": {}
  },
  {
   "cell_type": "markdown",
   "source": [
    "We now evaluate the pipelines by comparing the pipeline results to the unprocessed list of tokens."
   ],
   "metadata": {}
  },
  {
   "cell_type": "code",
   "execution_count": 4,
   "source": [
    "for i, result in enumerate(results):\r\n",
    "    print(f\"***{pipeline_names[i]}***\")\r\n",
    "    # Print which words were modified\r\n",
    "    for j, word in enumerate(words):\r\n",
    "        if word.lower() != result[j].lower():\r\n",
    "            print(f\"{word} => {result[j].lower()}\", end=' | ')\r\n",
    "    print(\"\\n\")\r\n",
    "    print(\"~\"*25)"
   ],
   "outputs": [
    {
     "output_type": "stream",
     "name": "stdout",
     "text": [
      "***nltk_stemmer***\n",
      "there => ther | Whats => what | this => thi | Resume => resum | this => thi | this => thi | made => mad | tell => tel | Give => giv | summary => sum | Ilia => il | Briefly => brief | tell => tel | little => littl | Give => giv | Ilia => il | experiences => expery | qualifications => qual | Quickly => quick | describe => describ | Ilia => il | Ilia => il | Tell => tel | Ilia => il | Whats => what | Ilia => il | Ilia => il | Detailed => detail | Ilia => il | software => softw | developer => develop | engineer => engin | tell => tel | Ilia => il | Give => giv | detailed => detail | description => describ | Ilia => il | Tell => tel | Ilia => il | Describe => describ | Ilia => il | skills => skil | does => doe | Ilia => il | have => hav | does => doe | your => yo | like => lik | Ilia => il | programming => program | skills => skil | tools => tool | languages => langu | tools => tool | technologies => technolog | Ilia => il | comfortable => comfort | Tell => tel | some => som | tools => tool | technologies => technolog | use => us | Projects => project | Ilia => il | worked => work | your => yo | experience => expery | side => sid | projects => project | have => hav | done => don | some => som | side => sid | projects => project | Ilia => il | worked => work | interesting => interest | projects => project | Ilia => il | tell => tel | are => ar | some => som | side => sid | things => thing | Ilia => il | done => don | Ilia => il | side => sid | projects => project | experience => expery | does => doe | Ilia => il | have => hav | Ilia => il | experience => expery | Ilia => il | jobs => job | Ilia => il | software => softw | development => develop | engineering => engin | experience => expery | Ilia => il | done => don | software => softw | Where => wher | Ilia => il | worked => work | previously => prevy | Where => wher | does => doe | Ilia => il | Where => wher | Ilia => il | employed => employ | Have => hav | software => softw | related => rel | jobs => job | Ilia => il | current => cur | employer => employ | Ilia => il | employed => employ | Employment => employ | status => stat | Does => doe | Ilia => il | have => hav | Ilia => il | Where => wher | Ilia => il | continue => continu | discussion => discuss | Ilia => il | Ilia => il | information => inform | Give => giv | Ilia => il | preferred => prefer | your => yo | all => al | your => yo | Goodbye => goodby | Amazing => amaz | helpfull => helpful | useful => us | Great => gre | Ilia => il | later => lat | \n",
      "\n",
      "~~~~~~~~~~~~~~~~~~~~~~~~~\n",
      "***nltk_no_POS_lemmatizer***\n",
      "was => wa | Ilia => ilium | Ilia => ilium | experiences => experience | qualifications => qualification | Ilia => ilium | Ilia => ilium | us => u | Ilia => ilium | Ilia => ilium | Ilia => ilium | Ilia => ilium | as => a | Ilia => ilium | Ilia => ilium | us => u | Ilia => ilium | Ilia => ilium | skills => skill | does => doe | Ilia => ilium | does => doe | Ilia => ilium | skills => skill | tools => tool | languages => language | tools => tool | technologies => technology | Ilia => ilium | tools => tool | technologies => technology | Projects => project | Ilia => ilium | has => ha | projects => project | Discuss => discus | projects => project | Ilia => ilium | has => ha | projects => project | Ilia => ilium | things => thing | Ilia => ilium | has => ha | Ilia => ilium | projects => project | does => doe | Ilia => ilium | Ilia => ilium | Has => ha | Ilia => ilium | jobs => job | Discuss => discus | Ilia => ilium | has => ha | Ilia => ilium | has => ha | Ilia => ilium | does => doe | Ilia => ilium | has => ha | Ilia => ilium | jobs => job | Ilia => ilium | Ilia => ilium | Does => doe | Ilia => ilium | Ilia => ilium | Ilia => ilium | Ilia => ilium | Ilia => ilium | us => u | Ilia => ilium | us => u | Ilia => ilium | \n",
      "\n",
      "~~~~~~~~~~~~~~~~~~~~~~~~~\n",
      "***nltk_POS_lemmatizer***\n",
      "is => be | is => be | was => be | made => make | experiences => experience | qualifications => qualification | is => be | us => u | is => be | as => a | us => u | does => do | does => do | skills => skill | tools => tool | languages => language | tools => tool | technologies => technology | is => be | tools => tool | technologies => technology | has => have | worked => work | projects => project | done => do | projects => project | has => have | worked => work | projects => project | are => be | things => thing | has => have | done => do | projects => project | does => do | is => be | had => have | jobs => job | has => have | done => do | has => have | worked => work | does => do | has => have | been => be | employed => employ | had => have | related => relate | jobs => job | is => be | employed => employ | is => be | us => u | preferred => prefer | us => u | \n",
      "\n",
      "~~~~~~~~~~~~~~~~~~~~~~~~~\n"
     ]
    }
   ],
   "metadata": {}
  },
  {
   "cell_type": "markdown",
   "source": [
    "The nltk_POS_lemmatizer pipeline produces the most desirable results and will thus be used for preprocessing the chatbot model input data from hereon."
   ],
   "metadata": {}
  },
  {
   "cell_type": "code",
   "execution_count": 5,
   "source": [
    "# Change words list to preprocessed result of nltk_POS_lemmatizer\r\n",
    "words = results[pipeline_names.index('nltk_POS_lemmatizer')]\r\n",
    "\r\n",
    "# Sort and remove duplicate words\r\n",
    "words = sorted(list(set(words)))"
   ],
   "outputs": [],
   "metadata": {}
  },
  {
   "cell_type": "code",
   "execution_count": 6,
   "source": [
    "# Prepare training dataset\r\n",
    "training_data = []\r\n",
    "output_empty = [0] * len(classes)\r\n",
    "\r\n",
    "for doc in docs:\r\n",
    "    bag = []\r\n",
    "    \r\n",
    "    # Apply chosen pipeline to word_pattern in doc\r\n",
    "    word_pattern = pipelines[pipeline_names.index('nltk_POS_lemmatizer')](' '.join(doc[0]))\r\n",
    "    \r\n",
    "    # Populate the bag using one-hot encoding method\r\n",
    "    for word in words:\r\n",
    "        bag.append(1) if word in word_pattern else bag.append(0)\r\n",
    "    \r\n",
    "    # Indicate which class the word_pattern belongs to\r\n",
    "    output_row = list(output_empty)\r\n",
    "    output_row[classes.index(doc[1])] = 1\r\n",
    "\r\n",
    "    # Add (bag, tag) pair to total training set\r\n",
    "    training_data.append([bag, output_row])"
   ],
   "outputs": [],
   "metadata": {}
  },
  {
   "cell_type": "code",
   "execution_count": 7,
   "source": [
    "random.shuffle(training_data)\r\n",
    "training_data = np.array(training_data, dtype=object)\r\n",
    "\r\n",
    "train_x = list(training_data[:, 0])\r\n",
    "train_y = list(training_data[:, 1])\r\n",
    "\r\n",
    "print(train_x[0])\r\n",
    "print(train_y[0])"
   ],
   "outputs": [
    {
     "output_type": "stream",
     "name": "stdout",
     "text": [
      "[0, 0, 0, 0, 0, 0, 0, 0, 1, 0, 0, 0, 0, 0, 0, 0, 0, 0, 0, 0, 0, 0, 0, 0, 0, 0, 0, 0, 0, 0, 0, 0, 0, 0, 0, 0, 0, 0, 0, 0, 0, 0, 0, 0, 0, 0, 0, 0, 0, 0, 0, 1, 0, 0, 0, 0, 0, 0, 0, 0, 0, 0, 0, 0, 0, 0, 0, 0, 0, 0, 0, 0, 0, 0, 0, 0, 0, 0, 0, 0, 0, 0, 0, 0, 0, 0, 0, 0, 0, 0, 0, 0, 0, 0, 0, 0, 0, 0, 0, 0, 0, 0, 0, 0, 0, 0, 0, 0, 0, 0, 0, 0, 0, 0, 0, 0, 0, 1, 0, 0, 0, 0, 0]\n",
      "[0, 0, 1, 0, 0, 0, 0, 0, 0]\n"
     ]
    }
   ],
   "metadata": {}
  },
  {
   "cell_type": "markdown",
   "source": [
    "## Model Creation and Training"
   ],
   "metadata": {}
  },
  {
   "cell_type": "code",
   "execution_count": 8,
   "source": [
    "model = tf.keras.Sequential([\r\n",
    "    layers.Dense(128, activation='relu'),\r\n",
    "    layers.Dropout(0.5),\r\n",
    "    layers.Dense(64, activation='relu'),\r\n",
    "    layers.Dropout(0.3),\r\n",
    "    layers.Dense(len(classes), activation='softmax')\r\n",
    "])"
   ],
   "outputs": [],
   "metadata": {}
  },
  {
   "cell_type": "code",
   "execution_count": 9,
   "source": [
    "# sgd = tf.keras.optimizers.SGD(lr=0.01, decay=1e-6, momentum=0.9, nesterov=True)\r\n",
    "model.compile(\r\n",
    "    loss='categorical_crossentropy',\r\n",
    "    optimizer='adam',\r\n",
    "    metrics=['accuracy']\r\n",
    ")"
   ],
   "outputs": [],
   "metadata": {}
  },
  {
   "cell_type": "code",
   "execution_count": 10,
   "source": [
    "# Implement early stopping to prevent overfitting and reduce training time\r\n",
    "# from tensorflow.keras.callbacks import EarlyStopping\r\n",
    "\r\n",
    "# early_stopping = EarlyStopping(\r\n",
    "#     monitor='accuracy',\r\n",
    "#     min_delta=0.001,\r\n",
    "#     patience=35,\r\n",
    "#     verbose=1\r\n",
    "# )"
   ],
   "outputs": [],
   "metadata": {}
  },
  {
   "cell_type": "code",
   "execution_count": 11,
   "source": [
    "history = model.fit(\r\n",
    "    train_x, train_y,\r\n",
    "    epochs=150,\r\n",
    "    batch_size=15,\r\n",
    "    # callbacks=[early_stopping]\r\n",
    ")"
   ],
   "outputs": [
    {
     "output_type": "stream",
     "name": "stdout",
     "text": [
      "Epoch 1/150\n",
      "5/5 [==============================] - 0s 2ms/step - loss: 2.2407 - accuracy: 0.0650\n",
      "Epoch 2/150\n",
      "5/5 [==============================] - 0s 3ms/step - loss: 2.2345 - accuracy: 0.2231\n",
      "Epoch 3/150\n",
      "5/5 [==============================] - 0s 2ms/step - loss: 2.1345 - accuracy: 0.1717\n",
      "Epoch 4/150\n",
      "5/5 [==============================] - 0s 3ms/step - loss: 2.1658 - accuracy: 0.1165\n",
      "Epoch 5/150\n",
      "5/5 [==============================] - 0s 3ms/step - loss: 2.1089 - accuracy: 0.2403\n",
      "Epoch 6/150\n",
      "5/5 [==============================] - 0s 2ms/step - loss: 2.0534 - accuracy: 0.3304\n",
      "Epoch 7/150\n",
      "5/5 [==============================] - 0s 3ms/step - loss: 2.0303 - accuracy: 0.2441\n",
      "Epoch 8/150\n",
      "5/5 [==============================] - 0s 3ms/step - loss: 2.0072 - accuracy: 0.2877\n",
      "Epoch 9/150\n",
      "5/5 [==============================] - 0s 2ms/step - loss: 1.9654 - accuracy: 0.4024\n",
      "Epoch 10/150\n",
      "5/5 [==============================] - 0s 1ms/step - loss: 1.9560 - accuracy: 0.3491\n",
      "Epoch 11/150\n",
      "5/5 [==============================] - 0s 3ms/step - loss: 1.9219 - accuracy: 0.4835\n",
      "Epoch 12/150\n",
      "5/5 [==============================] - 0s 3ms/step - loss: 1.8983 - accuracy: 0.2925\n",
      "Epoch 13/150\n",
      "5/5 [==============================] - 0s 3ms/step - loss: 1.8553 - accuracy: 0.3630\n",
      "Epoch 14/150\n",
      "5/5 [==============================] - 0s 3ms/step - loss: 1.7826 - accuracy: 0.4590\n",
      "Epoch 15/150\n",
      "5/5 [==============================] - 0s 3ms/step - loss: 1.6958 - accuracy: 0.4255\n",
      "Epoch 16/150\n",
      "5/5 [==============================] - 0s 3ms/step - loss: 1.7206 - accuracy: 0.4988\n",
      "Epoch 17/150\n",
      "5/5 [==============================] - 0s 2ms/step - loss: 1.6560 - accuracy: 0.5730\n",
      "Epoch 18/150\n",
      "5/5 [==============================] - 0s 2ms/step - loss: 1.6439 - accuracy: 0.5180\n",
      "Epoch 19/150\n",
      "5/5 [==============================] - 0s 2ms/step - loss: 1.6239 - accuracy: 0.4178\n",
      "Epoch 20/150\n",
      "5/5 [==============================] - 0s 3ms/step - loss: 1.5254 - accuracy: 0.5777\n",
      "Epoch 21/150\n",
      "5/5 [==============================] - 0s 2ms/step - loss: 1.3901 - accuracy: 0.6636\n",
      "Epoch 22/150\n",
      "5/5 [==============================] - 0s 1ms/step - loss: 1.3458 - accuracy: 0.6830\n",
      "Epoch 23/150\n",
      "5/5 [==============================] - 0s 2ms/step - loss: 1.3394 - accuracy: 0.7832\n",
      "Epoch 24/150\n",
      "5/5 [==============================] - 0s 3ms/step - loss: 1.3683 - accuracy: 0.6260\n",
      "Epoch 25/150\n",
      "5/5 [==============================] - 0s 1ms/step - loss: 1.2979 - accuracy: 0.6637\n",
      "Epoch 26/150\n",
      "5/5 [==============================] - 0s 3ms/step - loss: 1.3263 - accuracy: 0.6293\n",
      "Epoch 27/150\n",
      "5/5 [==============================] - 0s 3ms/step - loss: 1.2142 - accuracy: 0.7694\n",
      "Epoch 28/150\n",
      "5/5 [==============================] - 0s 3ms/step - loss: 1.0598 - accuracy: 0.7927\n",
      "Epoch 29/150\n",
      "5/5 [==============================] - 0s 3ms/step - loss: 0.9466 - accuracy: 0.8667\n",
      "Epoch 30/150\n",
      "5/5 [==============================] - 0s 2ms/step - loss: 0.9157 - accuracy: 0.7949\n",
      "Epoch 31/150\n",
      "5/5 [==============================] - 0s 2ms/step - loss: 0.8232 - accuracy: 0.8487\n",
      "Epoch 32/150\n",
      "5/5 [==============================] - 0s 3ms/step - loss: 0.8034 - accuracy: 0.8622\n",
      "Epoch 33/150\n",
      "5/5 [==============================] - 0s 2ms/step - loss: 0.9306 - accuracy: 0.7411\n",
      "Epoch 34/150\n",
      "5/5 [==============================] - 0s 1ms/step - loss: 0.7962 - accuracy: 0.8543\n",
      "Epoch 35/150\n",
      "5/5 [==============================] - 0s 1ms/step - loss: 0.7600 - accuracy: 0.8199\n",
      "Epoch 36/150\n",
      "5/5 [==============================] - 0s 2ms/step - loss: 0.6996 - accuracy: 0.8585\n",
      "Epoch 37/150\n",
      "5/5 [==============================] - 0s 2ms/step - loss: 0.6724 - accuracy: 0.8496\n",
      "Epoch 38/150\n",
      "5/5 [==============================] - 0s 3ms/step - loss: 0.6052 - accuracy: 0.9007\n",
      "Epoch 39/150\n",
      "5/5 [==============================] - 0s 2ms/step - loss: 0.5812 - accuracy: 0.9355\n",
      "Epoch 40/150\n",
      "5/5 [==============================] - 0s 3ms/step - loss: 0.6405 - accuracy: 0.9105\n",
      "Epoch 41/150\n",
      "5/5 [==============================] - 0s 2ms/step - loss: 0.5360 - accuracy: 0.9108\n",
      "Epoch 42/150\n",
      "5/5 [==============================] - 0s 3ms/step - loss: 0.4813 - accuracy: 0.9442\n",
      "Epoch 43/150\n",
      "5/5 [==============================] - 0s 2ms/step - loss: 0.6232 - accuracy: 0.9142\n",
      "Epoch 44/150\n",
      "5/5 [==============================] - 0s 1ms/step - loss: 0.4297 - accuracy: 0.9480\n",
      "Epoch 45/150\n",
      "5/5 [==============================] - 0s 1ms/step - loss: 0.5080 - accuracy: 0.9522\n",
      "Epoch 46/150\n",
      "5/5 [==============================] - 0s 1ms/step - loss: 0.4185 - accuracy: 0.9591\n",
      "Epoch 47/150\n",
      "5/5 [==============================] - 0s 1ms/step - loss: 0.4092 - accuracy: 0.9754\n",
      "Epoch 48/150\n",
      "5/5 [==============================] - 0s 1ms/step - loss: 0.5016 - accuracy: 0.9068\n",
      "Epoch 49/150\n",
      "5/5 [==============================] - 0s 1ms/step - loss: 0.3621 - accuracy: 0.9921\n",
      "Epoch 50/150\n",
      "5/5 [==============================] - 0s 1ms/step - loss: 0.3261 - accuracy: 0.9777\n",
      "Epoch 51/150\n",
      "5/5 [==============================] - 0s 1ms/step - loss: 0.3793 - accuracy: 0.8901\n",
      "Epoch 52/150\n",
      "5/5 [==============================] - 0s 1ms/step - loss: 0.3304 - accuracy: 0.9401\n",
      "Epoch 53/150\n",
      "5/5 [==============================] - 0s 1ms/step - loss: 0.3083 - accuracy: 0.9717\n",
      "Epoch 54/150\n",
      "5/5 [==============================] - 0s 1ms/step - loss: 0.3574 - accuracy: 0.9073\n",
      "Epoch 55/150\n",
      "5/5 [==============================] - 0s 1ms/step - loss: 0.3375 - accuracy: 0.9429\n",
      "Epoch 56/150\n",
      "5/5 [==============================] - 0s 1ms/step - loss: 0.2750 - accuracy: 0.9712\n",
      "Epoch 57/150\n",
      "5/5 [==============================] - 0s 1ms/step - loss: 0.2644 - accuracy: 0.9749\n",
      "Epoch 58/150\n",
      "5/5 [==============================] - 0s 1ms/step - loss: 0.2671 - accuracy: 0.9350\n",
      "Epoch 59/150\n",
      "5/5 [==============================] - 0s 2ms/step - loss: 0.2290 - accuracy: 0.9712\n",
      "Epoch 60/150\n",
      "5/5 [==============================] - 0s 1ms/step - loss: 0.3751 - accuracy: 0.8692\n",
      "Epoch 61/150\n",
      "5/5 [==============================] - 0s 1ms/step - loss: 0.2509 - accuracy: 1.0000\n",
      "Epoch 62/150\n",
      "5/5 [==============================] - 0s 1ms/step - loss: 0.1811 - accuracy: 1.0000\n",
      "Epoch 63/150\n",
      "5/5 [==============================] - 0s 2ms/step - loss: 0.1973 - accuracy: 0.9805\n",
      "Epoch 64/150\n",
      "5/5 [==============================] - 0s 1ms/step - loss: 0.2888 - accuracy: 0.9601\n",
      "Epoch 65/150\n",
      "5/5 [==============================] - 0s 2ms/step - loss: 0.1589 - accuracy: 0.9578\n",
      "Epoch 66/150\n",
      "5/5 [==============================] - 0s 1ms/step - loss: 0.1353 - accuracy: 0.9921\n",
      "Epoch 67/150\n",
      "5/5 [==============================] - 0s 1ms/step - loss: 0.2545 - accuracy: 0.9559\n",
      "Epoch 68/150\n",
      "5/5 [==============================] - 0s 2ms/step - loss: 0.1490 - accuracy: 1.0000\n",
      "Epoch 69/150\n",
      "5/5 [==============================] - 0s 2ms/step - loss: 0.1853 - accuracy: 0.9768\n",
      "Epoch 70/150\n",
      "5/5 [==============================] - 0s 3ms/step - loss: 0.1699 - accuracy: 0.9842\n",
      "Epoch 71/150\n",
      "5/5 [==============================] - 0s 2ms/step - loss: 0.1770 - accuracy: 0.9828\n",
      "Epoch 72/150\n",
      "5/5 [==============================] - 0s 2ms/step - loss: 0.1685 - accuracy: 0.9670\n",
      "Epoch 73/150\n",
      "5/5 [==============================] - 0s 2ms/step - loss: 0.2218 - accuracy: 0.9717\n",
      "Epoch 74/150\n",
      "5/5 [==============================] - 0s 3ms/step - loss: 0.1294 - accuracy: 0.9921\n",
      "Epoch 75/150\n",
      "5/5 [==============================] - 0s 2ms/step - loss: 0.1198 - accuracy: 1.0000\n",
      "Epoch 76/150\n",
      "5/5 [==============================] - 0s 3ms/step - loss: 0.1660 - accuracy: 0.9884\n",
      "Epoch 77/150\n",
      "5/5 [==============================] - 0s 2ms/step - loss: 0.1862 - accuracy: 0.9263\n",
      "Epoch 78/150\n",
      "5/5 [==============================] - 0s 2ms/step - loss: 0.1412 - accuracy: 0.9949\n",
      "Epoch 79/150\n",
      "5/5 [==============================] - 0s 1ms/step - loss: 0.1045 - accuracy: 1.0000\n",
      "Epoch 80/150\n",
      "5/5 [==============================] - 0s 2ms/step - loss: 0.1011 - accuracy: 1.0000\n",
      "Epoch 81/150\n",
      "5/5 [==============================] - 0s 2ms/step - loss: 0.0795 - accuracy: 1.0000\n",
      "Epoch 82/150\n",
      "5/5 [==============================] - 0s 2ms/step - loss: 0.1328 - accuracy: 0.9717\n",
      "Epoch 83/150\n",
      "5/5 [==============================] - 0s 3ms/step - loss: 0.1002 - accuracy: 1.0000\n",
      "Epoch 84/150\n",
      "5/5 [==============================] - 0s 2ms/step - loss: 0.0670 - accuracy: 1.0000\n",
      "Epoch 85/150\n",
      "5/5 [==============================] - 0s 2ms/step - loss: 0.0815 - accuracy: 1.0000\n",
      "Epoch 86/150\n",
      "5/5 [==============================] - 0s 2ms/step - loss: 0.1899 - accuracy: 0.9429\n",
      "Epoch 87/150\n",
      "5/5 [==============================] - 0s 3ms/step - loss: 0.1150 - accuracy: 1.0000\n",
      "Epoch 88/150\n",
      "5/5 [==============================] - 0s 3ms/step - loss: 0.0943 - accuracy: 1.0000\n",
      "Epoch 89/150\n",
      "5/5 [==============================] - 0s 1ms/step - loss: 0.0893 - accuracy: 0.9717\n",
      "Epoch 90/150\n",
      "5/5 [==============================] - 0s 2ms/step - loss: 0.0621 - accuracy: 0.9921\n",
      "Epoch 91/150\n",
      "5/5 [==============================] - 0s 2ms/step - loss: 0.0933 - accuracy: 1.0000\n",
      "Epoch 92/150\n",
      "5/5 [==============================] - 0s 3ms/step - loss: 0.1058 - accuracy: 0.9921\n",
      "Epoch 93/150\n",
      "5/5 [==============================] - 0s 3ms/step - loss: 0.1039 - accuracy: 0.9805\n",
      "Epoch 94/150\n",
      "5/5 [==============================] - 0s 3ms/step - loss: 0.0885 - accuracy: 1.0000\n",
      "Epoch 95/150\n",
      "5/5 [==============================] - 0s 2ms/step - loss: 0.0958 - accuracy: 0.9949\n",
      "Epoch 96/150\n",
      "5/5 [==============================] - 0s 3ms/step - loss: 0.0876 - accuracy: 1.0000\n",
      "Epoch 97/150\n",
      "5/5 [==============================] - 0s 2ms/step - loss: 0.0984 - accuracy: 1.0000\n",
      "Epoch 98/150\n",
      "5/5 [==============================] - 0s 2ms/step - loss: 0.1173 - accuracy: 1.0000\n",
      "Epoch 99/150\n",
      "5/5 [==============================] - 0s 1ms/step - loss: 0.0875 - accuracy: 0.9717\n",
      "Epoch 100/150\n",
      "5/5 [==============================] - 0s 3ms/step - loss: 0.0518 - accuracy: 1.0000\n",
      "Epoch 101/150\n",
      "5/5 [==============================] - 0s 2ms/step - loss: 0.0665 - accuracy: 0.9921\n",
      "Epoch 102/150\n",
      "5/5 [==============================] - 0s 2ms/step - loss: 0.1080 - accuracy: 1.0000\n",
      "Epoch 103/150\n",
      "5/5 [==============================] - 0s 3ms/step - loss: 0.0498 - accuracy: 1.0000\n",
      "Epoch 104/150\n",
      "5/5 [==============================] - 0s 1ms/step - loss: 0.0780 - accuracy: 0.9777\n",
      "Epoch 105/150\n",
      "5/5 [==============================] - 0s 3ms/step - loss: 0.0941 - accuracy: 0.9638\n",
      "Epoch 106/150\n",
      "5/5 [==============================] - 0s 2ms/step - loss: 0.1110 - accuracy: 0.9717\n",
      "Epoch 107/150\n",
      "5/5 [==============================] - 0s 3ms/step - loss: 0.0852 - accuracy: 0.9670\n",
      "Epoch 108/150\n",
      "5/5 [==============================] - 0s 2ms/step - loss: 0.0761 - accuracy: 0.9828\n",
      "Epoch 109/150\n",
      "5/5 [==============================] - 0s 1ms/step - loss: 0.0970 - accuracy: 0.9638\n",
      "Epoch 110/150\n",
      "5/5 [==============================] - 0s 1ms/step - loss: 0.0801 - accuracy: 0.9717\n",
      "Epoch 111/150\n",
      "5/5 [==============================] - 0s 2ms/step - loss: 0.0484 - accuracy: 1.0000\n",
      "Epoch 112/150\n",
      "5/5 [==============================] - 0s 1ms/step - loss: 0.0527 - accuracy: 1.0000\n",
      "Epoch 113/150\n",
      "5/5 [==============================] - 0s 2ms/step - loss: 0.0384 - accuracy: 1.0000\n",
      "Epoch 114/150\n",
      "5/5 [==============================] - 0s 3ms/step - loss: 0.0634 - accuracy: 0.9921\n",
      "Epoch 115/150\n",
      "5/5 [==============================] - 0s 2ms/step - loss: 0.0788 - accuracy: 0.9717\n",
      "Epoch 116/150\n",
      "5/5 [==============================] - 0s 1ms/step - loss: 0.0489 - accuracy: 1.0000\n",
      "Epoch 117/150\n",
      "5/5 [==============================] - 0s 2ms/step - loss: 0.0329 - accuracy: 1.0000\n",
      "Epoch 118/150\n",
      "5/5 [==============================] - 0s 1ms/step - loss: 0.0439 - accuracy: 0.9921\n",
      "Epoch 119/150\n",
      "5/5 [==============================] - 0s 1ms/step - loss: 0.0543 - accuracy: 1.0000\n",
      "Epoch 120/150\n",
      "5/5 [==============================] - 0s 2ms/step - loss: 0.0832 - accuracy: 0.9828\n",
      "Epoch 121/150\n",
      "5/5 [==============================] - 0s 1ms/step - loss: 0.0262 - accuracy: 1.0000\n",
      "Epoch 122/150\n",
      "5/5 [==============================] - 0s 2ms/step - loss: 0.0458 - accuracy: 1.0000\n",
      "Epoch 123/150\n",
      "5/5 [==============================] - 0s 2ms/step - loss: 0.0404 - accuracy: 1.0000\n",
      "Epoch 124/150\n",
      "5/5 [==============================] - 0s 2ms/step - loss: 0.0546 - accuracy: 0.9717\n",
      "Epoch 125/150\n",
      "5/5 [==============================] - 0s 1ms/step - loss: 0.0573 - accuracy: 1.0000\n",
      "Epoch 126/150\n",
      "5/5 [==============================] - 0s 2ms/step - loss: 0.0318 - accuracy: 1.0000\n",
      "Epoch 127/150\n",
      "5/5 [==============================] - 0s 1ms/step - loss: 0.0509 - accuracy: 0.9949\n",
      "Epoch 128/150\n",
      "5/5 [==============================] - 0s 2ms/step - loss: 0.0346 - accuracy: 1.0000\n",
      "Epoch 129/150\n",
      "5/5 [==============================] - 0s 2ms/step - loss: 0.0265 - accuracy: 1.0000\n",
      "Epoch 130/150\n",
      "5/5 [==============================] - 0s 2ms/step - loss: 0.0638 - accuracy: 0.9884\n",
      "Epoch 131/150\n",
      "5/5 [==============================] - 0s 1ms/step - loss: 0.0490 - accuracy: 1.0000\n",
      "Epoch 132/150\n",
      "5/5 [==============================] - 0s 2ms/step - loss: 0.0301 - accuracy: 1.0000\n",
      "Epoch 133/150\n",
      "5/5 [==============================] - 0s 2ms/step - loss: 0.0470 - accuracy: 1.0000\n",
      "Epoch 134/150\n",
      "5/5 [==============================] - 0s 3ms/step - loss: 0.0472 - accuracy: 0.9828\n",
      "Epoch 135/150\n",
      "5/5 [==============================] - 0s 3ms/step - loss: 0.0322 - accuracy: 1.0000\n",
      "Epoch 136/150\n",
      "5/5 [==============================] - 0s 2ms/step - loss: 0.0507 - accuracy: 0.9884\n",
      "Epoch 137/150\n",
      "5/5 [==============================] - 0s 1ms/step - loss: 0.0398 - accuracy: 1.0000\n",
      "Epoch 138/150\n",
      "5/5 [==============================] - 0s 2ms/step - loss: 0.0174 - accuracy: 1.0000\n",
      "Epoch 139/150\n",
      "5/5 [==============================] - 0s 1ms/step - loss: 0.0547 - accuracy: 1.0000\n",
      "Epoch 140/150\n",
      "5/5 [==============================] - 0s 1ms/step - loss: 0.0292 - accuracy: 1.0000\n",
      "Epoch 141/150\n",
      "5/5 [==============================] - 0s 1ms/step - loss: 0.0240 - accuracy: 1.0000\n",
      "Epoch 142/150\n",
      "5/5 [==============================] - 0s 2ms/step - loss: 0.0407 - accuracy: 1.0000\n",
      "Epoch 143/150\n",
      "5/5 [==============================] - 0s 2ms/step - loss: 0.0309 - accuracy: 1.0000\n",
      "Epoch 144/150\n",
      "5/5 [==============================] - 0s 3ms/step - loss: 0.0223 - accuracy: 1.0000\n",
      "Epoch 145/150\n",
      "5/5 [==============================] - 0s 3ms/step - loss: 0.0194 - accuracy: 1.0000\n",
      "Epoch 146/150\n",
      "5/5 [==============================] - 0s 3ms/step - loss: 0.0851 - accuracy: 0.9717\n",
      "Epoch 147/150\n",
      "5/5 [==============================] - 0s 3ms/step - loss: 0.0442 - accuracy: 0.9717\n",
      "Epoch 148/150\n",
      "5/5 [==============================] - 0s 2ms/step - loss: 0.0339 - accuracy: 1.0000\n",
      "Epoch 149/150\n",
      "5/5 [==============================] - 0s 1ms/step - loss: 0.0204 - accuracy: 1.0000\n",
      "Epoch 150/150\n",
      "5/5 [==============================] - 0s 1ms/step - loss: 0.0256 - accuracy: 1.0000\n"
     ]
    }
   ],
   "metadata": {}
  },
  {
   "cell_type": "code",
   "execution_count": 12,
   "source": [
    "# Plotting history (not too useful since there is no validation data)\r\n",
    "# SGD with momentum and nesterov optimizer, No early_stopping (May be overfitting)\r\n",
    "history_df = pd.DataFrame(history.history)\r\n",
    "history_df.loc[:, ['loss']].plot()\r\n",
    "history_df.loc[:, ['accuracy']].plot()"
   ],
   "outputs": [
    {
     "output_type": "execute_result",
     "data": {
      "text/plain": [
       "<AxesSubplot:>"
      ]
     },
     "metadata": {},
     "execution_count": 12
    },
    {
     "output_type": "display_data",
     "data": {
      "text/plain": [
       "<Figure size 432x288 with 1 Axes>"
      ],
      "image/png": "[encoded data removed]"
     },
     "metadata": {
      "needs_background": "light"
     }
    },
    {
     "output_type": "display_data",
     "data": {
      "text/plain": [
       "<Figure size 432x288 with 1 Axes>"
      ],
      "image/png": "[encoded data removed]"
     },
     "metadata": {
      "needs_background": "light"
     }
    }
   ],
   "metadata": {}
  },
  {
   "cell_type": "code",
   "execution_count": 12,
   "source": [
    "# Plotting history (not too useful since there is no validation data)\r\n",
    "# Adam optimizer, No early_stopping (May be overfitting)\r\n",
    "history_df = pd.DataFrame(history.history)\r\n",
    "history_df.loc[:, ['loss']].plot()\r\n",
    "history_df.loc[:, ['accuracy']].plot()"
   ],
   "outputs": [
    {
     "output_type": "execute_result",
     "data": {
      "text/plain": [
       "<AxesSubplot:>"
      ]
     },
     "metadata": {},
     "execution_count": 12
    },
    {
     "output_type": "display_data",
     "data": {
      "text/plain": [
       "<Figure size 432x288 with 1 Axes>"
      ],
      "image/png": "[encoded data removed]"
     },
     "metadata": {
      "needs_background": "light"
     }
    },
    {
     "output_type": "display_data",
     "data": {
      "text/plain": [
       "<Figure size 432x288 with 1 Axes>"
      ],
      "image/png": "[encoded data removed]"
     },
     "metadata": {
      "needs_background": "light"
     }
    }
   ],
   "metadata": {}
  },
  {
   "cell_type": "code",
   "execution_count": 12,
   "source": [
    "# Plotting history (not too useful since there is no validation data)\r\n",
    "# Adam optimizer, With early_stopping, patience=25 (May be underfitting)\r\n",
    "history_df = pd.DataFrame(history.history)\r\n",
    "history_df.loc[:, ['loss']].plot()\r\n",
    "history_df.loc[:, ['accuracy']].plot()"
   ],
   "outputs": [
    {
     "output_type": "execute_result",
     "data": {
      "text/plain": [
       "<AxesSubplot:>"
      ]
     },
     "metadata": {},
     "execution_count": 12
    },
    {
     "output_type": "display_data",
     "data": {
      "text/plain": [
       "<Figure size 432x288 with 1 Axes>"
      ],
      "image/png": "[encoded data removed]"
     },
     "metadata": {
      "needs_background": "light"
     }
    },
    {
     "output_type": "display_data",
     "data": {
      "text/plain": [
       "<Figure size 432x288 with 1 Axes>"
      ],
      "image/png": "[encoded data removed]"
     },
     "metadata": {
      "needs_background": "light"
     }
    }
   ],
   "metadata": {}
  },
  {
   "cell_type": "code",
   "execution_count": 12,
   "source": [
    "# Save the model\r\n",
    "model_path = './adam_model'\r\n",
    "tf.keras.models.save_model(model, model_path)\r\n",
    "\r\n",
    "# Store words and classes in pickle file for use in baggin and classification\r\n",
    "pickle.dump(words, open(f'{model_path}/words.pkl', 'wb'))\r\n",
    "pickle.dump(classes, open(f'{model_path}/classes.pkl', 'wb'))"
   ],
   "outputs": [
    {
     "output_type": "stream",
     "name": "stdout",
     "text": [
      "INFO:tensorflow:Assets written to: ./sgd_model_2\\assets\n"
     ]
    }
   ],
   "metadata": {}
  }
 ],
 "metadata": {
  "orig_nbformat": 4,
  "language_info": {
   "name": "python",
   "version": "3.6.8",
   "mimetype": "text/x-python",
   "codemirror_mode": {
    "name": "ipython",
    "version": 3
   },
   "pygments_lexer": "ipython3",
   "nbconvert_exporter": "python",
   "file_extension": ".py"
  },
  "kernelspec": {
   "name": "python3",
   "display_name": "Python 3.6.8 64-bit"
  },
  "interpreter": {
   "hash": "79b34c132431629d3c5274ec3b6bb03b828c385fb18b030c8223d0c222d2b2a1"
  }
 },
 "nbformat": 4,
 "nbformat_minor": 2
}