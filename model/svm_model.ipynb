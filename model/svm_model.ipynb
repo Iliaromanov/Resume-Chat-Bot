{
 "cells": [
  {
   "cell_type": "code",
   "execution_count": 5,
   "source": [
    "# import spacy\r\n",
    "import numpy as np\r\n",
    "import json\r\n",
    "from nlp_pipelines import nltk_POS_lemmatizer\r\n",
    "import random\r\n",
    "import nltk\r\n",
    "import pickle\r\n",
    "from sklearn.svm import LinearSVC"
   ],
   "outputs": [],
   "metadata": {}
  },
  {
   "cell_type": "code",
   "execution_count": 2,
   "source": [
    "# Preprocessing intents data\r\n",
    "intents = json.loads(open('intents.json').read())\r\n",
    "\r\n",
    "words = []  # all possible words in intents vocabulary\r\n",
    "classes = []  # tags\r\n",
    "docs = []  # pairs of tokenized word patterns and corresponding classes\r\n",
    "\r\n",
    "for intent in intents['intents']:\r\n",
    "    for pattern in intent['patterns']:\r\n",
    "        # Remove punctuation\r\n",
    "        pattern = pattern.replace('?', '').replace('!', '').replace(',', '').replace('.', '')\r\n",
    "        tokens = nltk.word_tokenize(pattern)\r\n",
    "        words.extend(nltk_POS_lemmatizer(pattern))\r\n",
    "        docs.append((tokens, intent['tag']))\r\n",
    "        \r\n",
    "        if intent['tag'] not in classes:\r\n",
    "            classes.append(intent['tag'])\r\n",
    "\r\n",
    "# Sort tag names list\r\n",
    "classes = sorted(classes)\r\n",
    "\r\n",
    "# Sort and remove duplicate words\r\n",
    "words = sorted(list(set(words)))\r\n",
    "\r\n",
    "# Prepare training dataset\r\n",
    "training_data = []\r\n",
    "output_empty = [0] * len(classes)\r\n",
    "\r\n",
    "for doc in docs:\r\n",
    "    bag = []\r\n",
    "    \r\n",
    "    # Apply chosen pipeline to word_pattern in doc\r\n",
    "    word_pattern = nltk_POS_lemmatizer(' '.join(doc[0]))\r\n",
    "    \r\n",
    "    # Populate the bag using one-hot encoding method\r\n",
    "    for word in words:\r\n",
    "        bag.append(1) if word in word_pattern else bag.append(0)\r\n",
    "\r\n",
    "    # Add (bag, tag) pair to total training set\r\n",
    "    training_data.append([bag, doc[1]])\r\n",
    "\r\n",
    "\r\n",
    "random.shuffle(training_data)\r\n",
    "training_data = np.array(training_data, dtype=object)\r\n",
    "\r\n",
    "train_x = list(training_data[:, 0])\r\n",
    "train_y = list(training_data[:, 1])\r\n",
    "print(train_x[0])\r\n",
    "print(train_y[0])"
   ],
   "outputs": [
    {
     "output_type": "stream",
     "name": "stdout",
     "text": [
      "[0, 0, 0, 0, 0, 0, 0, 0, 0, 0, 0, 0, 1, 0, 0, 0, 0, 0, 0, 0, 0, 0, 0, 0, 0, 0, 0, 0, 0, 0, 0, 0, 0, 0, 0, 0, 0, 0, 0, 0, 0, 0, 0, 0, 0, 0, 0, 0, 0, 0, 0, 0, 0, 0, 0, 0, 0, 0, 0, 0, 0, 0, 0, 0, 1, 1, 0, 0, 0, 0, 0, 0, 0, 0, 0, 0, 0, 0, 0, 0, 0, 0, 0, 0, 0, 0, 0, 0, 0, 0, 0, 0, 0, 0, 0, 0, 0, 0, 0, 0, 0, 0, 0, 0, 1, 0, 0, 0, 0, 0, 0, 0, 0, 0, 0, 0, 0, 0, 0, 0, 0, 0, 0, 0, 0, 0, 0, 0, 0, 0, 0, 0, 0, 0, 0, 0, 0, 0, 0, 0, 1, 0, 0, 0, 0, 0]\n",
      "about yourself\n"
     ]
    }
   ],
   "metadata": {}
  },
  {
   "cell_type": "code",
   "execution_count": 4,
   "source": [
    "svc = LinearSVC(dual=False, max_iter=120)\r\n",
    "svc.fit(train_x, train_y)"
   ],
   "outputs": [
    {
     "output_type": "stream",
     "name": "stdout",
     "text": [
      "Accuracy: 83.333%\n"
     ]
    }
   ],
   "metadata": {}
  },
  {
   "cell_type": "code",
   "execution_count": 6,
   "source": [
    "pickle.dump(words, open('svm_words.pkl', 'wb'))\r\n",
    "pickle.dump(classes, open('svm_classes.pkl', 'wb'))\r\n",
    "pickle.dump(svc, open('svm_model.pkl', 'wb'))"
   ],
   "outputs": [],
   "metadata": {}
  }
 ],
 "metadata": {
  "orig_nbformat": 4,
  "language_info": {
   "name": "python",
   "version": "3.6.8",
   "mimetype": "text/x-python",
   "codemirror_mode": {
    "name": "ipython",
    "version": 3
   },
   "pygments_lexer": "ipython3",
   "nbconvert_exporter": "python",
   "file_extension": ".py"
  },
  "kernelspec": {
   "name": "python3",
   "display_name": "Python 3.6.8 64-bit"
  },
  "interpreter": {
   "hash": "79b34c132431629d3c5274ec3b6bb03b828c385fb18b030c8223d0c222d2b2a1"
  }
 },
 "nbformat": 4,
 "nbformat_minor": 2
}