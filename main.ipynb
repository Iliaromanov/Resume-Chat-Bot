{
 "cells": [
  {
   "cell_type": "code",
   "execution_count": 8,
   "source": [
    "import tensorflow as tf\r\n",
    "from tensorflow.keras import layers\r\n",
    "import numpy as np\r\n",
    "import json\r\n",
    "import random\r\n",
    "\r\n",
    "# Import created data pipelines\r\n",
    "from nlp_pipelines import *\r\n",
    "pipelines = [\r\n",
    "    nltk_stemmer, nltk_no_POS_lemmatizer, nltk_POS_lemmatizer\r\n",
    "]\r\n",
    "pipeline_names = [\r\n",
    "    \"nltk_stemmer\", \"nltk_no_POS_lemmatizer\", \"nltk_POS_lemmatizer\"\r\n",
    "]\r\n",
    "\r\n",
    "import matplotlib.pyplot as plt\r\n",
    "%matplotlib inline"
   ],
   "outputs": [],
   "metadata": {}
  },
  {
   "cell_type": "code",
   "execution_count": 2,
   "source": [
    "# Necessary downloads\r\n",
    "nltk.download('punkt', quiet=True)\r\n",
    "nltk.download('wordnet', quiet=True)"
   ],
   "outputs": [
    {
     "output_type": "execute_result",
     "data": {
      "text/plain": [
       "True"
      ]
     },
     "metadata": {},
     "execution_count": 2
    }
   ],
   "metadata": {}
  },
  {
   "cell_type": "code",
   "execution_count": 3,
   "source": [
    "# Preprocessing intents data\r\n",
    "intents = json.loads(open('intents.json').read())\r\n",
    "\r\n",
    "results = [[] for _ in range(len(pipelines))] # list of pipeline results for comparing pipelines\r\n",
    "words = []  # all possible words in intents vocabulary\r\n",
    "classes = []  # tags\r\n",
    "docs = []  # pairs of tokenized word patterns and corresponding classes\r\n",
    "\r\n",
    "for intent in intents['intents']:\r\n",
    "    for pattern in intent['patterns']:\r\n",
    "        tokens = nltk.word_tokenize(pattern)\r\n",
    "        words.extend([token for token in tokens if token not in \"?!,.\"])\r\n",
    "        docs.append((tokens, intent['tag']))\r\n",
    "\r\n",
    "        # Apply pipelines to pattern and save results for comparison\r\n",
    "        for i in range(len(pipelines)):\r\n",
    "            results[i].extend(pipelines[i](pattern))\r\n",
    "        \r\n",
    "        if intent['tag'] not in classes:\r\n",
    "            classes.append(intent['tag'])\r\n",
    "\r\n",
    "# Sort tag names list\r\n",
    "classes = sorted(classes)"
   ],
   "outputs": [],
   "metadata": {}
  },
  {
   "cell_type": "markdown",
   "source": [
    "We now evaluate the pipelines by comparing the pipeline results to the unprocessed list of tokens."
   ],
   "metadata": {}
  },
  {
   "cell_type": "code",
   "execution_count": 4,
   "source": [
    "for i, result in enumerate(results):\r\n",
    "    print(f\"***{pipeline_names[i]}***\")\r\n",
    "    # Print which words were modified\r\n",
    "    for j, word in enumerate(words):\r\n",
    "        if word.lower() != result[j].lower():\r\n",
    "            print(f\"{word} => {result[j].lower()}\", end=' | ')\r\n",
    "    print(\"\\n\")\r\n",
    "    print(\"~\"*25)"
   ],
   "outputs": [
    {
     "output_type": "stream",
     "name": "stdout",
     "text": [
      "***nltk_stemmer***\n",
      "there => ther | Whats => what | this => thi | Resume => resum | this => thi | Give => giv | summary => sum | Ilia => il | Briefly => brief | tell => tel | little => littl | Give => giv | Ilia => il | experiences => expery | qualifications => qual | Tell => tel | Ilia => il | Whats => what | Ilia => il | Ilia => il | skills => skil | does => doe | Ilia => il | have => hav | does => doe | your => yo | like => lik | tools => tool | languages => langu | Tell => tel | your => yo | some => som | tools => tool | technologies => technolog | use => us | experience => expery | does => doe | Ilia => il | have => hav | Projects => project | Ilia => il | worked => work | your => yo | experience => expery | your => yo | Goodbye => goodby | \n",
      "\n",
      "~~~~~~~~~~~~~~~~~~~~~~~~~\n",
      "***nltk_no_POS_lemmatizer***\n",
      "Ilia => ilium | Ilia => ilium | experiences => experience | qualifications => qualification | us => u | Ilia => ilium | Ilia => ilium | Ilia => ilium | skills => skill | does => doe | Ilia => ilium | does => doe | tools => tool | languages => language | tools => tool | technologies => technology | does => doe | Ilia => ilium | Projects => project | Ilia => ilium | has => ha | \n",
      "\n",
      "~~~~~~~~~~~~~~~~~~~~~~~~~\n",
      "***nltk_POS_lemmatizer***\n",
      "is => be | is => be | experiences => experience | qualifications => qualification | us => u | is => be | does => do | does => do | tools => tool | languages => language | tools => tool | technologies => technology | does => do | has => have | worked => work | \n",
      "\n",
      "~~~~~~~~~~~~~~~~~~~~~~~~~\n"
     ]
    }
   ],
   "metadata": {}
  },
  {
   "cell_type": "markdown",
   "source": [
    "The nltk_POS_lemmatizer pipeline produces the most desirable results and will thus be used for preprocessing the chatbot model input data from hereon."
   ],
   "metadata": {}
  },
  {
   "cell_type": "code",
   "execution_count": 5,
   "source": [
    "# Change words list to preprocessed result of nltk_POS_lemmatizer\r\n",
    "words = results[pipeline_names.index('nltk_POS_lemmatizer')]\r\n",
    "\r\n",
    "# Sort and remove duplicate words\r\n",
    "words = sorted(list(set(words)))"
   ],
   "outputs": [],
   "metadata": {}
  },
  {
   "cell_type": "code",
   "execution_count": 9,
   "source": [
    "# Prepare training dataset\r\n",
    "training_data = []\r\n",
    "output_empty = [0] * len(classes)\r\n",
    "\r\n",
    "for doc in docs:\r\n",
    "    bag = []\r\n",
    "    \r\n",
    "    # Apply chosen pipeline to word_pattern in doc\r\n",
    "    word_pattern = pipelines[pipeline_names.index('nltk_POS_lemmatizer')](' '.join(doc[0]))\r\n",
    "    \r\n",
    "    # Populate the bag using one-hot encoding method\r\n",
    "    for word in words:\r\n",
    "        bag.append(1) if word in word_pattern else bag.append(0)\r\n",
    "    \r\n",
    "    # Indicate which class the word_pattern belongs to\r\n",
    "    output_row = list(output_empty)\r\n",
    "    output_row[classes.index(doc[1])] = 1\r\n",
    "\r\n",
    "    # Add (bag, tag) pair to total training set\r\n",
    "    training_data.append([bag, output_row])"
   ],
   "outputs": [],
   "metadata": {}
  },
  {
   "cell_type": "code",
   "execution_count": 12,
   "source": [
    "random.shuffle(training_data)\r\n",
    "training_data = np.array(training_data)\r\n",
    "\r\n",
    "train_x = list(training_data[:, 0])\r\n",
    "train_y = list(training_data[:, 1])\r\n",
    "\r\n",
    "print(train_x[0])\r\n",
    "print(train_y[0])"
   ],
   "outputs": [
    {
     "output_type": "stream",
     "name": "stdout",
     "text": [
      "[0, 0, 1, 0, 0, 0, 0, 0, 0, 0, 0, 0, 0, 0, 0, 0, 0, 0, 0, 0, 0, 0, 0, 0, 0, 0, 0, 0, 0, 0, 0, 0, 0, 0, 0, 1, 0, 0, 0, 0, 0, 0, 0, 0, 0, 0, 1, 0, 0, 0, 0, 0, 1, 0, 0, 0, 0, 0, 0, 0, 0, 0, 0, 0]\n",
      "[1, 0, 0, 0, 0, 0, 0]\n"
     ]
    }
   ],
   "metadata": {}
  }
 ],
 "metadata": {
  "orig_nbformat": 4,
  "language_info": {
   "name": "python",
   "version": "3.6.8",
   "mimetype": "text/x-python",
   "codemirror_mode": {
    "name": "ipython",
    "version": 3
   },
   "pygments_lexer": "ipython3",
   "nbconvert_exporter": "python",
   "file_extension": ".py"
  },
  "kernelspec": {
   "name": "python3",
   "display_name": "Python 3.6.8 64-bit"
  },
  "interpreter": {
   "hash": "79b34c132431629d3c5274ec3b6bb03b828c385fb18b030c8223d0c222d2b2a1"
  }
 },
 "nbformat": 4,
 "nbformat_minor": 2
}