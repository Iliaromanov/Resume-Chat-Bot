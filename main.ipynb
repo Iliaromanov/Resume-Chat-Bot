{
 "cells": [
  {
   "cell_type": "code",
   "execution_count": 1,
   "source": [
    "import tensorflow as tf\r\n",
    "from tensorflow.keras import layers\r\n",
    "import numpy as np\r\n",
    "import json\r\n",
    "\r\n",
    "# Import created data pipelines\r\n",
    "from nlp_pipelines import *\r\n",
    "pipelines = [\r\n",
    "    nltk_stemmer, nltk_no_POS_lemmatizer, nltk_POS_lemmatizer\r\n",
    "]\r\n",
    "pipeline_names = [\r\n",
    "    \"nltk_stemmer\", \"nltk_no_POS_lemmatizer\", \"nltk_POS_lemmatizer\"\r\n",
    "]\r\n",
    "\r\n",
    "import matplotlib.pyplot as plt\r\n",
    "%matplotlib inline"
   ],
   "outputs": [],
   "metadata": {}
  },
  {
   "cell_type": "code",
   "execution_count": 2,
   "source": [
    "# Necessary downloads\r\n",
    "nltk.download('punkt', quiet=True)\r\n",
    "nltk.download('wordnet', quiet=True)"
   ],
   "outputs": [
    {
     "output_type": "execute_result",
     "data": {
      "text/plain": [
       "True"
      ]
     },
     "metadata": {},
     "execution_count": 2
    }
   ],
   "metadata": {}
  },
  {
   "cell_type": "code",
   "execution_count": 3,
   "source": [
    "# Preprocessing intents data\r\n",
    "intents = json.loads(open('intents.json').read())\r\n",
    "\r\n",
    "results = [[] for _ in range(len(pipelines))] # list of pipeline results for comparing pipelines\r\n",
    "words = []  # all possible words in intents vocabulary\r\n",
    "classes = []  # tags\r\n",
    "docs = []  # pairs of toekenized word patterns and corresponding classes\r\n",
    "\r\n",
    "for intent in intents['intents']:\r\n",
    "    for pattern in intent['patterns']:\r\n",
    "        tokens = nltk.word_tokenize(pattern)\r\n",
    "        words.extend([token for token in tokens if token not in \"?!,.\"])\r\n",
    "        docs.append((tokens, intent['tag']))\r\n",
    "\r\n",
    "        # Apply pipelines to pattern and save results for comparison\r\n",
    "        for i in range(len(pipelines)):\r\n",
    "            results[i].extend(pipelines[i](pattern))\r\n",
    "        \r\n",
    "        if intent['tag'] not in classes:\r\n",
    "            classes.append(intent['tag'])\r\n"
   ],
   "outputs": [],
   "metadata": {}
  },
  {
   "cell_type": "markdown",
   "source": [
    "We now evaluate the pipelines by comparing the pipeline results to the unprocessed list of tokens."
   ],
   "metadata": {}
  },
  {
   "cell_type": "code",
   "execution_count": 4,
   "source": [
    "for i, result in enumerate(results):\r\n",
    "    print(f\"***{pipeline_names[i]}***\")\r\n",
    "    # Print which words were modified\r\n",
    "    for j, word in enumerate(words):\r\n",
    "        if word.lower() != result[j].lower():\r\n",
    "            print(f\"{word} => {result[j].lower()}\")\r\n",
    "    print(\"~\"*25)"
   ],
   "outputs": [
    {
     "output_type": "stream",
     "name": "stdout",
     "text": [
      "***nltk_stemmer***\n",
      "there => ther\n",
      "Whats => what\n",
      "this => thi\n",
      "Resume => resum\n",
      "this => thi\n",
      "Give => giv\n",
      "summary => sum\n",
      "Ilia => il\n",
      "Briefly => brief\n",
      "tell => tel\n",
      "little => littl\n",
      "Give => giv\n",
      "Ilia => il\n",
      "experiences => expery\n",
      "qualifications => qual\n",
      "Tell => tel\n",
      "Ilia => il\n",
      "Whats => what\n",
      "Ilia => il\n",
      "Ilia => il\n",
      "skills => skil\n",
      "does => doe\n",
      "Ilia => il\n",
      "have => hav\n",
      "does => doe\n",
      "your => yo\n",
      "like => lik\n",
      "tools => tool\n",
      "languages => langu\n",
      "Tell => tel\n",
      "your => yo\n",
      "some => som\n",
      "tools => tool\n",
      "technologies => technolog\n",
      "use => us\n",
      "experience => expery\n",
      "does => doe\n",
      "Ilia => il\n",
      "have => hav\n",
      "Projects => project\n",
      "Ilia => il\n",
      "worked => work\n",
      "your => yo\n",
      "experience => expery\n",
      "your => yo\n",
      "Goodbye => goodby\n",
      "~~~~~~~~~~~~~~~~~~~~~~~~~\n",
      "***nltk_no_POS_lemmatizer***\n",
      "Ilia => ilium\n",
      "Ilia => ilium\n",
      "experiences => experience\n",
      "qualifications => qualification\n",
      "us => u\n",
      "Ilia => ilium\n",
      "Ilia => ilium\n",
      "Ilia => ilium\n",
      "skills => skill\n",
      "does => doe\n",
      "Ilia => ilium\n",
      "does => doe\n",
      "tools => tool\n",
      "languages => language\n",
      "tools => tool\n",
      "technologies => technology\n",
      "does => doe\n",
      "Ilia => ilium\n",
      "Projects => project\n",
      "Ilia => ilium\n",
      "has => ha\n",
      "~~~~~~~~~~~~~~~~~~~~~~~~~\n",
      "***nltk_POS_lemmatizer***\n",
      "is => be\n",
      "is => be\n",
      "experiences => experience\n",
      "qualifications => qualification\n",
      "us => u\n",
      "is => be\n",
      "does => do\n",
      "does => do\n",
      "tools => tool\n",
      "languages => language\n",
      "tools => tool\n",
      "technologies => technology\n",
      "does => do\n",
      "has => have\n",
      "worked => work\n",
      "~~~~~~~~~~~~~~~~~~~~~~~~~\n"
     ]
    }
   ],
   "metadata": {}
  },
  {
   "cell_type": "markdown",
   "source": [
    "The nltk_POS_lemmatizer pipeline produces the most desirable results and will thus be used for preprocessing the chatbot model input data from hereon."
   ],
   "metadata": {}
  }
 ],
 "metadata": {
  "orig_nbformat": 4,
  "language_info": {
   "name": "python",
   "version": "3.6.8",
   "mimetype": "text/x-python",
   "codemirror_mode": {
    "name": "ipython",
    "version": 3
   },
   "pygments_lexer": "ipython3",
   "nbconvert_exporter": "python",
   "file_extension": ".py"
  },
  "kernelspec": {
   "name": "python3",
   "display_name": "Python 3.6.8 64-bit"
  },
  "interpreter": {
   "hash": "79b34c132431629d3c5274ec3b6bb03b828c385fb18b030c8223d0c222d2b2a1"
  }
 },
 "nbformat": 4,
 "nbformat_minor": 2
}